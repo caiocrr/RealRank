{
 "cells": [
  {
   "cell_type": "code",
   "execution_count": 23,
   "metadata": {},
   "outputs": [],
   "source": [
    "import networkx as nx\n",
    "import pandas as pd\n",
    "import numpy as np\n",
    "import ctypes\n",
    "import matplotlib.colors as clr\n",
    "import matplotlib.pyplot as plt\n",
    "import collections"
   ]
  },
  {
   "cell_type": "code",
   "execution_count": 24,
   "metadata": {},
   "outputs": [],
   "source": [
    "base_dir = \"/steam/\""
   ]
  },
  {
   "cell_type": "code",
   "execution_count": 25,
   "metadata": {},
   "outputs": [],
   "source": [
    "G = nx.read_edgelist(base_dir+\"ranks/steam.edgelist\", encoding='utf-8', nodetype=int)"
   ]
  },
  {
   "cell_type": "code",
   "execution_count": 60,
   "metadata": {},
   "outputs": [],
   "source": [
    "def BFS(graph, root): \n",
    "    visited, queue = set(), collections.deque([root])\n",
    "    visited.add(root) \n",
    "    v_rings = {}\n",
    "    v_rings[root] = 0\n",
    "    while queue: \n",
    "        vertex = queue.popleft()\n",
    "        for neighbour in graph[vertex].keys(): \n",
    "            if neighbour not in visited: \n",
    "                ka = v_rings[vertex] + 1\n",
    "                v_rings[neighbour] = ka\n",
    "                visited.add(neighbour) \n",
    "                queue.append(neighbour)\n",
    "    return v_rings\n",
    "            "
   ]
  },
  {
   "cell_type": "code",
   "execution_count": 66,
   "metadata": {},
   "outputs": [
    {
     "name": "stdout",
     "output_type": "stream",
     "text": [
      "(0, 52, 2153, 114046, 0.9999912316851824)\n",
      "(1, 49, 2469, 36923, 0.3237524880093295)\n",
      "(2, 112, 5549, 52074, 0.4566012258104115)\n",
      "(3, 39, 1277, 19658, 0.1723675326838935)\n",
      "(4, 54, 4389, 30892, 0.2708707813445334)\n",
      "(5, 126, 7807, 60296, 0.5286943102405148)\n",
      "(6, 89, 6483, 48675, 0.42679772374547337)\n",
      "(7, 71, 5828, 52233, 0.457995387866406)\n",
      "(8, 40, 1952, 33504, 0.29377361964803983)\n",
      "(9, 101, 7092, 69792, 0.6119582277482091)\n"
     ]
    }
   ],
   "source": [
    "n = len(G)\n",
    "for i in range(0,10):\n",
    "    aneis = BFS(G,i)    \n",
    "    k1 = len([k for k in aneis if aneis[k] == 1])\n",
    "    k2 = len([k for k in aneis if aneis[k] == 2]) + k1\n",
    "    k3 = len([k for k in aneis if aneis[k] == 3]) + k2\n",
    "    prop_k3 = float(k3)/n\n",
    "    print(i, k1, k2, k3,prop_k3)\n",
    "    "
   ]
  },
  {
   "cell_type": "code",
   "execution_count": null,
   "metadata": {},
   "outputs": [],
   "source": []
  }
 ],
 "metadata": {
  "kernelspec": {
   "display_name": "Python 2",
   "language": "python",
   "name": "python2"
  },
  "language_info": {
   "codemirror_mode": {
    "name": "ipython",
    "version": 2
   },
   "file_extension": ".py",
   "mimetype": "text/x-python",
   "name": "python",
   "nbconvert_exporter": "python",
   "pygments_lexer": "ipython2",
   "version": "2.7.15rc1"
  }
 },
 "nbformat": 4,
 "nbformat_minor": 2
}
