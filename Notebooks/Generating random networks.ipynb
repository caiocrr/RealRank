{
 "cells": [
  {
   "cell_type": "code",
   "execution_count": 144,
   "metadata": {},
   "outputs": [],
   "source": [
    "import networkx as nx\n",
    "import numpy as np\n",
    "import math"
   ]
  },
  {
   "cell_type": "code",
   "execution_count": 145,
   "metadata": {},
   "outputs": [],
   "source": [
    "n20 = nx.barabasi_albert_graph(10, 3)\n",
    "n100 = nx.barabasi_albert_graph(100, 3)\n",
    "n1000 = nx.barabasi_albert_graph(1000, 3)\n",
    "n10000 = nx.barabasi_albert_graph(10000, 3)\n",
    "n100000 = nx.barabasi_albert_graph(100000, 3)"
   ]
  },
  {
   "cell_type": "code",
   "execution_count": 146,
   "metadata": {},
   "outputs": [],
   "source": [
    "def write_edgelist(G, name):\n",
    "    with open('../random_networks/'+name+'.edgelist', 'w') as handle: \n",
    "        for e in G.edges():\n",
    "            handle.write(str(e[0]) + ' ' + str(e[1]) + '\\n')"
   ]
  },
  {
   "cell_type": "code",
   "execution_count": 147,
   "metadata": {},
   "outputs": [],
   "source": [
    "write_edgelist(n10,'n10')\n",
    "write_edgelist(n100,'n100')\n",
    "write_edgelist(n1000,'n1000')\n",
    "write_edgelist(n10000,'n10000')\n"
   ]
  },
  {
   "cell_type": "code",
   "execution_count": 150,
   "metadata": {},
   "outputs": [],
   "source": [
    "#genenating random train with log(n) samples\n",
    "import random\n",
    "def gen_train(g, name):\n",
    "    len_graph = len(g.nodes())\n",
    "    n = min(3*len_graph/4,2*int(math.pow(math.log(len(g.nodes()), 2),2)))\n",
    "    nodes = list(g.nodes())\n",
    "    np.random.shuffle(nodes)\n",
    "    nodes = nodes[:n]\n",
    "    c = np.random.choice([0,1], n)\n",
    "    with open('../random_networks/'+name+'.train', 'w') as handle: \n",
    "        for e in zip(nodes,c):\n",
    "            handle.write(str(e[0]) + ' ' + str(e[1]) + '\\n')"
   ]
  },
  {
   "cell_type": "code",
   "execution_count": 151,
   "metadata": {},
   "outputs": [],
   "source": [
    "gen_train(n10,'n10')\n",
    "gen_train(n100,'n100')\n",
    "gen_train(n1000,'n1000')\n",
    "gen_train(n10000,'n10000')"
   ]
  },
  {
   "cell_type": "code",
   "execution_count": null,
   "metadata": {},
   "outputs": [],
   "source": []
  },
  {
   "cell_type": "code",
   "execution_count": null,
   "metadata": {},
   "outputs": [],
   "source": []
  }
 ],
 "metadata": {
  "kernelspec": {
   "display_name": "Python 2",
   "language": "python",
   "name": "python2"
  },
  "language_info": {
   "codemirror_mode": {
    "name": "ipython",
    "version": 2
   },
   "file_extension": ".py",
   "mimetype": "text/x-python",
   "name": "python",
   "nbconvert_exporter": "python",
   "pygments_lexer": "ipython2",
   "version": "2.7.15rc1"
  }
 },
 "nbformat": 4,
 "nbformat_minor": 2
}
