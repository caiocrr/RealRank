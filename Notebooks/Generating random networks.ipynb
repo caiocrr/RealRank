{
 "cells": [
  {
   "cell_type": "code",
   "execution_count": 152,
   "metadata": {},
   "outputs": [],
   "source": [
    "import networkx as nx\n",
    "import numpy as np\n",
    "import math"
   ]
  },
  {
   "cell_type": "code",
   "execution_count": 153,
   "metadata": {},
   "outputs": [],
   "source": [
    "n20 = nx.barabasi_albert_graph(20, 3)\n",
    "n200 = nx.barabasi_albert_graph(200, 3)\n",
    "n2000 = nx.barabasi_albert_graph(2000, 3)\n",
    "n20000 = nx.barabasi_albert_graph(20000, 3)"
   ]
  },
  {
   "cell_type": "code",
   "execution_count": 154,
   "metadata": {},
   "outputs": [],
   "source": [
    "def write_edgelist(G, name):\n",
    "    with open('../random_networks/'+name+'.edgelist', 'w') as handle: \n",
    "        for e in G.edges():\n",
    "            handle.write(str(e[0]) + ' ' + str(e[1]) + '\\n')"
   ]
  },
  {
   "cell_type": "code",
   "execution_count": 155,
   "metadata": {},
   "outputs": [],
   "source": [
    "write_edgelist(n20,'n20')\n",
    "write_edgelist(n200,'n200')\n",
    "write_edgelist(n2000,'n2000')\n",
    "write_edgelist(n20000,'n20000')\n"
   ]
  },
  {
   "cell_type": "code",
   "execution_count": 156,
   "metadata": {},
   "outputs": [],
   "source": [
    "#genenating random train with log(n) samples\n",
    "import random\n",
    "def gen_train(g, name):\n",
    "    len_graph = len(g.nodes())\n",
    "    n = min(3*len_graph/4,2*int(math.pow(math.log(len(g.nodes()), 2),2)))\n",
    "    nodes = list(g.nodes())\n",
    "    np.random.shuffle(nodes)\n",
    "    nodes = nodes[:n]\n",
    "    c = np.random.choice([0,1], n)\n",
    "    with open('../random_networks/'+name+'.train', 'w') as handle: \n",
    "        for e in zip(nodes,c):\n",
    "            handle.write(str(e[0]) + ' ' + str(e[1]) + '\\n')"
   ]
  },
  {
   "cell_type": "code",
   "execution_count": 157,
   "metadata": {},
   "outputs": [],
   "source": [
    "gen_train(n20,'n20')\n",
    "gen_train(n200,'n200')\n",
    "gen_train(n2000,'n2000')\n",
    "gen_train(n20000,'n20000')"
   ]
  },
  {
   "cell_type": "code",
   "execution_count": null,
   "metadata": {},
   "outputs": [],
   "source": []
  },
  {
   "cell_type": "code",
   "execution_count": null,
   "metadata": {},
   "outputs": [],
   "source": []
  }
 ],
 "metadata": {
  "kernelspec": {
   "display_name": "Python 2",
   "language": "python",
   "name": "python2"
  },
  "language_info": {
   "codemirror_mode": {
    "name": "ipython",
    "version": 2
   },
   "file_extension": ".py",
   "mimetype": "text/x-python",
   "name": "python",
   "nbconvert_exporter": "python",
   "pygments_lexer": "ipython2",
   "version": "2.7.15rc1"
  }
 },
 "nbformat": 4,
 "nbformat_minor": 2
}
